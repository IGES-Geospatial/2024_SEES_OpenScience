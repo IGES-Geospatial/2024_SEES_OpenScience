{
 "cells": [
  {
   "cell_type": "markdown",
   "id": "16754b60-5053-49f5-93cb-2e24132685a5",
   "metadata": {},
   "source": [
    "# Example for downloading Land Cover Data from GLOBE API"
   ]
  },
  {
   "cell_type": "code",
   "execution_count": 1,
   "id": "33f222cf-695d-4531-bdd6-4478a8de7932",
   "metadata": {},
   "outputs": [],
   "source": [
    "# Import Libraries\n",
    "import pandas as pd\n",
    "import requests\n",
    "import json\n",
    "import datetime\n",
    "import csv\n",
    "from pathlib import Path"
   ]
  },
  {
   "cell_type": "code",
   "execution_count": 4,
   "id": "e695bf69-5983-4aa8-b2bb-ac1b5cb1d327",
   "metadata": {},
   "outputs": [],
   "source": [
    "def getLCData():\n",
    "    # Define the GLOBE API request URL\n",
    "    base_url = \"https://api.globe.gov/search/v1/measurement/protocol/measureddate/\"\n",
    "    requestParameters = {\n",
    "        \"protocols\": \"land_covers\",\n",
    "        \"startdate\": \"2018-09-01\",\n",
    "        \"enddate\" : datetime.datetime.utcnow().date(),\n",
    "        \"geojson\" : \"FALSE\",\n",
    "        \"sample\" : \"FALSE\"\n",
    "    }\n",
    "    # Make the request\n",
    "    response = requests.get(base_url, params=requestParameters)\n",
    "    # Keep the results\n",
    "    results = response.json()[\"results\"]\n",
    "\n",
    "    # Pass the results as a Dataframe\n",
    "    df = pd.DataFrame(results)\n",
    "    # Expand the nested 'data' column by listing the contents and passing as a new dataframe\n",
    "    df = pd.concat([df, pd.DataFrame(list(df['data']))], axis=1)\n",
    "    #Drop the previously nested data column\n",
    "    df.drop(columns=['data'], inplace=True)\n",
    "    # Define the protocol short name used for column labels\n",
    "    shortname = requestParameters['protocols'].replace(\"_\", \"\")\n",
    "    #Rename/Shorten Columns for complete display\n",
    "    df.columns = df.columns.str.replace(shortname, '', regex=False)\n",
    "    df = df[df[\"DataSource\"]=='GLOBE Observer App']\n",
    "    # Replace NA values with 'null' string\n",
    "    df = df.fillna('null')\n",
    "    return df"
   ]
  },
  {
   "cell_type": "code",
   "execution_count": 5,
   "id": "d0c96ec9-aefc-4c66-8704-369f9680bab1",
   "metadata": {},
   "outputs": [],
   "source": [
    "#LC\n",
    "lc = getLCData()\n",
    "#Write to CSV\n",
    "outputFile = Path(\"../input_data/Land_Cover_Data_AllYears_AllFields.csv\")\n",
    "lc.to_csv(outputFile, sep=',', index=False, encoding='utf-8', quoting=csv.QUOTE_ALL, quotechar='\"', escapechar='\"')"
   ]
  },
  {
   "cell_type": "code",
   "execution_count": null,
   "id": "48698541-aac4-4959-952a-6df4dd1ef103",
   "metadata": {},
   "outputs": [],
   "source": []
  }
 ],
 "metadata": {
  "kernelspec": {
   "display_name": "Python 3 (ipykernel)",
   "language": "python",
   "name": "python3"
  },
  "language_info": {
   "codemirror_mode": {
    "name": "ipython",
    "version": 3
   },
   "file_extension": ".py",
   "mimetype": "text/x-python",
   "name": "python",
   "nbconvert_exporter": "python",
   "pygments_lexer": "ipython3",
   "version": "3.10.4"
  }
 },
 "nbformat": 4,
 "nbformat_minor": 5
}
