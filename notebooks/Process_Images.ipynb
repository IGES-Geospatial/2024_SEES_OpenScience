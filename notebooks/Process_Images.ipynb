{
 "cells": [
  {
   "cell_type": "code",
   "execution_count": 1,
   "id": "bf70f74e-f6c5-4f39-87ab-7f302d9fb74f",
   "metadata": {},
   "outputs": [],
   "source": [
    "# Example Notebook to Process Input Data\n",
    "## Creates an averaged image from all images in downloaded_images"
   ]
  },
  {
   "cell_type": "code",
   "execution_count": 2,
   "id": "344293fa-86be-4d5d-a0f3-bdbf5e8abb32",
   "metadata": {},
   "outputs": [
    {
     "name": "stdout",
     "output_type": "stream",
     "text": [
      "Averaged image saved in output_data directory as 'averaged_image.png'\n"
     ]
    }
   ],
   "source": [
    "import os\n",
    "import numpy as np\n",
    "from PIL import Image\n",
    "\n",
    "# Directory containing the images\n",
    "image_dir = 'input_data/downloaded_images'\n",
    "\n",
    "# List to hold image arrays\n",
    "image_arrays = []\n",
    "\n",
    "# Iterate over all image files in the directory\n",
    "for filename in os.listdir(image_dir):\n",
    "    if filename.endswith(('.png', '.jpg', '.jpeg', '.bmp', '.gif')):\n",
    "        image_path = os.path.join(image_dir, filename)\n",
    "        with Image.open(image_path) as img:\n",
    "            # Convert image to numpy array\n",
    "            img_array = np.array(img, dtype=np.float32)\n",
    "            image_arrays.append(img_array)\n",
    "\n",
    "# Check if there are any images\n",
    "if not image_arrays:\n",
    "    print(\"No images found in the directory.\")\n",
    "else:\n",
    "    # Compute the average of the images\n",
    "    avg_array = np.mean(image_arrays, axis=0)\n",
    "\n",
    "    # Convert the average array to an image (ensure it is in uint8 format)\n",
    "    avg_image = Image.fromarray(np.uint8(avg_array))\n",
    "\n",
    "    # Save the averaged image\n",
    "    avg_image.save('output_data/averaged_image.png')\n",
    "    print(\"Averaged image saved in output_data directory as 'averaged_image.png'\")\n"
   ]
  },
  {
   "cell_type": "code",
   "execution_count": null,
   "id": "10c3cf33-6f90-4724-898b-0d03dae35e08",
   "metadata": {},
   "outputs": [],
   "source": []
  }
 ],
 "metadata": {
  "kernelspec": {
   "display_name": "Python 3 (ipykernel)",
   "language": "python",
   "name": "python3"
  },
  "language_info": {
   "codemirror_mode": {
    "name": "ipython",
    "version": 3
   },
   "file_extension": ".py",
   "mimetype": "text/x-python",
   "name": "python",
   "nbconvert_exporter": "python",
   "pygments_lexer": "ipython3",
   "version": "3.10.4"
  }
 },
 "nbformat": 4,
 "nbformat_minor": 5
}
